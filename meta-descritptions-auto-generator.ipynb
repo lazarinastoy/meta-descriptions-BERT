{
 "cells": [
  {
   "cell_type": "code",
   "execution_count": 1,
   "id": "ebe7b1fb",
   "metadata": {},
   "outputs": [],
   "source": [
    "#import necessary modules\n",
    "import pandas as pd\n",
    "from summarizer import Summarizer"
   ]
  },
  {
   "cell_type": "code",
   "execution_count": null,
   "id": "03ae7da6",
   "metadata": {},
   "outputs": [],
   "source": [
    "#import your file\n",
    "#format it with two columns - A with URLs, B with extracted page content\n",
    "df = pd.read_csv(\"../meta-descriptions/inputdata.csv\", header=0,\n",
    "                 encoding=\"utf-8-sig\", error_bad_lines=False)"
   ]
  },
  {
   "cell_type": "code",
   "execution_count": null,
   "id": "000e1abd",
   "metadata": {},
   "outputs": [],
   "source": [
    "  # Create a list to store the MDs\n",
    "  metadesc = [] \n",
    "\n",
    "  # For each URL in the input CSV run the analysis and store the results in the list \n",
    "  for i in range(len(df)):\n",
    "      # Here is the bodytext TBA\n",
    "      body = str(df.iloc[i][1])\n",
    "\n",
    "  # BERT\n",
    "      model = Summarizer()\n",
    "      result = model(body, max_length=160)\n",
    "      full = ''.join(result)\n",
    "      print(full)\n",
    "\n",
    "  # Storing all values into the list \n",
    "      metadesc.append(full)\n",
    "\n",
    "  #save stored values in a in a column\n",
    "  df['Meta Desc'] = metadesc\n",
    "\n",
    "  #save output\n",
    "  output = df.to_csv('output.csv')"
   ]
  }
 ],
 "metadata": {
  "kernelspec": {
   "display_name": "Python 3",
   "language": "python",
   "name": "python3"
  },
  "language_info": {
   "codemirror_mode": {
    "name": "ipython",
    "version": 3
   },
   "file_extension": ".py",
   "mimetype": "text/x-python",
   "name": "python",
   "nbconvert_exporter": "python",
   "pygments_lexer": "ipython3",
   "version": "3.8.8"
  }
 },
 "nbformat": 4,
 "nbformat_minor": 5
}
